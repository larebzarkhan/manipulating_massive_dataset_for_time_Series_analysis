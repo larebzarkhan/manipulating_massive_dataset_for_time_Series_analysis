{
 "cells": [
  {
   "cell_type": "markdown",
   "id": "0d592faa",
   "metadata": {},
   "source": [
    "Importing required packages"
   ]
  },
  {
   "cell_type": "code",
   "execution_count": 23,
   "id": "4ed79841",
   "metadata": {},
   "outputs": [],
   "source": [
    "import pandas as pd\n",
    "import os, glob\n",
    "import matplotlib.pyplot as plt\n",
    "\n",
    "import warnings\n",
    "warnings.filterwarnings(\"ignore\")"
   ]
  },
  {
   "cell_type": "markdown",
   "id": "99e7a0f2",
   "metadata": {},
   "source": [
    "We have 4000 text files (each corresponding to a recorded data on an optical channel for 14 months). A group of files (channels) belong to some specific optical link or segment.\n",
    "\n",
    "The goal is to group/merge all the files belonging to some specific segment while preserving the information of channel (i.e., channel number). The information about channel and segment numbers is available in the file names so we have to extract this information also."
   ]
  },
  {
   "cell_type": "markdown",
   "id": "b356e29a",
   "metadata": {},
   "source": [
    "Following function extracts and returns segment number from the file name."
   ]
  },
  {
   "cell_type": "code",
   "execution_count": 2,
   "id": "b4df2f79",
   "metadata": {},
   "outputs": [],
   "source": [
    "def get_segment_no(file_name):\n",
    "    \n",
    "    base_name = os.path.basename(file_name)     #extracts file name from the path\n",
    "    file_without_ext = os.path.splitext(base_name)[0]  #file name without extension\n",
    "    segment_no = file_without_ext.split(\"segment_\")[-1]   #getting segment number\n",
    "    \n",
    "    return segment_no"
   ]
  },
  {
   "cell_type": "markdown",
   "id": "cfb81b6d",
   "metadata": {},
   "source": [
    "Following function extracts and returns channel number from the file name."
   ]
  },
  {
   "cell_type": "code",
   "execution_count": 3,
   "id": "ac444159",
   "metadata": {},
   "outputs": [],
   "source": [
    "def get_channel_no(file_name):\n",
    "    base_name = os.path.basename(file_name)\n",
    "    file_without_ext = os.path.splitext(base_name)[0]\n",
    "    channel_no_temp = file_without_ext.split(\"channel_\")[-1]\n",
    "    channel_no = channel_no_temp.split(\"_segment_1\")[0]\n",
    "    \n",
    "    return channel_no"
   ]
  },
  {
   "cell_type": "markdown",
   "id": "b26dccb6",
   "metadata": {},
   "source": [
    "Specifying the folder directory and the extension of files that need to be opended.\n",
    "\n"
   ]
  },
  {
   "cell_type": "code",
   "execution_count": 4,
   "id": "01ac2b80",
   "metadata": {},
   "outputs": [],
   "source": [
    "folder = r\"/folder's_directory\"\n",
    "file_list = glob.glob(os.path.join(folder, '*.txt'))"
   ]
  },
  {
   "cell_type": "code",
   "execution_count": 5,
   "id": "4719c176",
   "metadata": {},
   "outputs": [],
   "source": [
    "# creating an empty dictionary to store the grouped files\n",
    "groups = {}"
   ]
  },
  {
   "cell_type": "markdown",
   "id": "62356b4e",
   "metadata": {},
   "source": [
    "With following for loop, we open each file (.txt) in the directory, add new column to store its channel number and then saving the upated file as .csv with the same name in the same directory."
   ]
  },
  {
   "cell_type": "code",
   "execution_count": 6,
   "id": "b1a64bf2",
   "metadata": {},
   "outputs": [],
   "source": [
    "for file_path in file_list:\n",
    "    df = pd.read_table(file_path, sep='\\t',  header = None)\n",
    "    df[\"channel\"] = get_channel_no(file_path)\n",
    "    df.to_csv(file_path, index = False)  #save it to csv file again (text file with comma seperator)"
   ]
  },
  {
   "cell_type": "code",
   "execution_count": 7,
   "id": "6d23acf9",
   "metadata": {},
   "outputs": [],
   "source": [
    "# iterate over the list of files\n",
    "for file_path in file_list:\n",
    "    \n",
    "    file_name = os.path.basename(file_path)\n",
    "    group_name = get_segment_no(file_name) # get segment number\n",
    "    \n",
    "    # if the group_name doesn't exist in the dictionary, create it and add the file to it\n",
    "    \n",
    "    if group_name not in groups:\n",
    "        groups[group_name] = [file_path]\n",
    "    else:\n",
    "        groups[group_name].append(file_path)"
   ]
  },
  {
   "cell_type": "code",
   "execution_count": 8,
   "id": "793f3268",
   "metadata": {},
   "outputs": [],
   "source": [
    "for group_name, files in groups.items():\n",
    "    # create a new file to store the merged contents\n",
    "    with open(os.path.join(folder, str(group_name) + '_optical_link.txt'), 'w') as outfile:\n",
    "        for file_path in files:\n",
    "            # open each file in the group and read its contents\n",
    "            with open(file_path, 'r') as infile:\n",
    "                outfile.write(infile.read())"
   ]
  },
  {
   "cell_type": "markdown",
   "id": "cece66c6",
   "metadata": {},
   "source": [
    "Data for each link has been merged and stored now! Opening one of those files and doing some further manipulation!"
   ]
  },
  {
   "cell_type": "code",
   "execution_count": 41,
   "id": "722ad664",
   "metadata": {},
   "outputs": [],
   "source": [
    "file_path_new = os.path.join(folder, \"1_optical_link.txt\")    # we can change the file name here\n",
    "df_optical_link = pd.read_csv(file_path_new)   #csv because data is sepearated using comma in text files"
   ]
  },
  {
   "cell_type": "code",
   "execution_count": 42,
   "id": "3d040b4c",
   "metadata": {},
   "outputs": [
    {
     "data": {
      "text/html": [
       "<div>\n",
       "<style scoped>\n",
       "    .dataframe tbody tr th:only-of-type {\n",
       "        vertical-align: middle;\n",
       "    }\n",
       "\n",
       "    .dataframe tbody tr th {\n",
       "        vertical-align: top;\n",
       "    }\n",
       "\n",
       "    .dataframe thead th {\n",
       "        text-align: right;\n",
       "    }\n",
       "</style>\n",
       "<table border=\"1\" class=\"dataframe\">\n",
       "  <thead>\n",
       "    <tr style=\"text-align: right;\">\n",
       "      <th></th>\n",
       "      <th>0</th>\n",
       "      <th>1</th>\n",
       "      <th>2</th>\n",
       "      <th>3</th>\n",
       "      <th>4</th>\n",
       "      <th>channel</th>\n",
       "    </tr>\n",
       "  </thead>\n",
       "  <tbody>\n",
       "    <tr>\n",
       "      <th>0</th>\n",
       "      <td>2015.03.18.19.45.00</td>\n",
       "      <td>12.03</td>\n",
       "      <td>-9.84</td>\n",
       "      <td>-2179.80</td>\n",
       "      <td>-19.56</td>\n",
       "      <td>10</td>\n",
       "    </tr>\n",
       "    <tr>\n",
       "      <th>1</th>\n",
       "      <td>2015.03.18.20.00.00</td>\n",
       "      <td>14.68</td>\n",
       "      <td>-9.84</td>\n",
       "      <td>-46.19</td>\n",
       "      <td>8.89</td>\n",
       "      <td>10</td>\n",
       "    </tr>\n",
       "    <tr>\n",
       "      <th>2</th>\n",
       "      <td>2015.03.18.20.15.00</td>\n",
       "      <td>14.75</td>\n",
       "      <td>-9.84</td>\n",
       "      <td>-43.79</td>\n",
       "      <td>8.95</td>\n",
       "      <td>10</td>\n",
       "    </tr>\n",
       "    <tr>\n",
       "      <th>3</th>\n",
       "      <td>2015.03.18.20.30.00</td>\n",
       "      <td>14.69</td>\n",
       "      <td>-9.83</td>\n",
       "      <td>-43.97</td>\n",
       "      <td>8.85</td>\n",
       "      <td>10</td>\n",
       "    </tr>\n",
       "    <tr>\n",
       "      <th>4</th>\n",
       "      <td>2015.03.18.20.45.00</td>\n",
       "      <td>14.65</td>\n",
       "      <td>-9.83</td>\n",
       "      <td>-45.48</td>\n",
       "      <td>8.68</td>\n",
       "      <td>10</td>\n",
       "    </tr>\n",
       "  </tbody>\n",
       "</table>\n",
       "</div>"
      ],
      "text/plain": [
       "                     0      1     2        3      4 channel\n",
       "0  2015.03.18.19.45.00  12.03 -9.84 -2179.80 -19.56      10\n",
       "1  2015.03.18.20.00.00  14.68 -9.84   -46.19   8.89      10\n",
       "2  2015.03.18.20.15.00  14.75 -9.84   -43.79   8.95      10\n",
       "3  2015.03.18.20.30.00  14.69 -9.83   -43.97   8.85      10\n",
       "4  2015.03.18.20.45.00  14.65 -9.83   -45.48   8.68      10"
      ]
     },
     "execution_count": 42,
     "metadata": {},
     "output_type": "execute_result"
    }
   ],
   "source": [
    "df_optical_link.head(5)"
   ]
  },
  {
   "cell_type": "code",
   "execution_count": 43,
   "id": "86918ece",
   "metadata": {},
   "outputs": [
    {
     "data": {
      "text/html": [
       "<div>\n",
       "<style scoped>\n",
       "    .dataframe tbody tr th:only-of-type {\n",
       "        vertical-align: middle;\n",
       "    }\n",
       "\n",
       "    .dataframe tbody tr th {\n",
       "        vertical-align: top;\n",
       "    }\n",
       "\n",
       "    .dataframe thead th {\n",
       "        text-align: right;\n",
       "    }\n",
       "</style>\n",
       "<table border=\"1\" class=\"dataframe\">\n",
       "  <thead>\n",
       "    <tr style=\"text-align: right;\">\n",
       "      <th></th>\n",
       "      <th>Date_time</th>\n",
       "      <th>Q_factor</th>\n",
       "      <th>Transmitted_power</th>\n",
       "      <th>CD</th>\n",
       "      <th>PMD</th>\n",
       "      <th>Channel</th>\n",
       "    </tr>\n",
       "  </thead>\n",
       "  <tbody>\n",
       "    <tr>\n",
       "      <th>0</th>\n",
       "      <td>2015.03.18.19.45.00</td>\n",
       "      <td>12.03</td>\n",
       "      <td>-9.84</td>\n",
       "      <td>-2179.80</td>\n",
       "      <td>-19.56</td>\n",
       "      <td>10</td>\n",
       "    </tr>\n",
       "    <tr>\n",
       "      <th>1</th>\n",
       "      <td>2015.03.18.20.00.00</td>\n",
       "      <td>14.68</td>\n",
       "      <td>-9.84</td>\n",
       "      <td>-46.19</td>\n",
       "      <td>8.89</td>\n",
       "      <td>10</td>\n",
       "    </tr>\n",
       "    <tr>\n",
       "      <th>2</th>\n",
       "      <td>2015.03.18.20.15.00</td>\n",
       "      <td>14.75</td>\n",
       "      <td>-9.84</td>\n",
       "      <td>-43.79</td>\n",
       "      <td>8.95</td>\n",
       "      <td>10</td>\n",
       "    </tr>\n",
       "    <tr>\n",
       "      <th>3</th>\n",
       "      <td>2015.03.18.20.30.00</td>\n",
       "      <td>14.69</td>\n",
       "      <td>-9.83</td>\n",
       "      <td>-43.97</td>\n",
       "      <td>8.85</td>\n",
       "      <td>10</td>\n",
       "    </tr>\n",
       "    <tr>\n",
       "      <th>4</th>\n",
       "      <td>2015.03.18.20.45.00</td>\n",
       "      <td>14.65</td>\n",
       "      <td>-9.83</td>\n",
       "      <td>-45.48</td>\n",
       "      <td>8.68</td>\n",
       "      <td>10</td>\n",
       "    </tr>\n",
       "  </tbody>\n",
       "</table>\n",
       "</div>"
      ],
      "text/plain": [
       "             Date_time  Q_factor  Transmitted_power       CD    PMD Channel\n",
       "0  2015.03.18.19.45.00     12.03              -9.84 -2179.80 -19.56      10\n",
       "1  2015.03.18.20.00.00     14.68              -9.84   -46.19   8.89      10\n",
       "2  2015.03.18.20.15.00     14.75              -9.84   -43.79   8.95      10\n",
       "3  2015.03.18.20.30.00     14.69              -9.83   -43.97   8.85      10\n",
       "4  2015.03.18.20.45.00     14.65              -9.83   -45.48   8.68      10"
      ]
     },
     "execution_count": 43,
     "metadata": {},
     "output_type": "execute_result"
    }
   ],
   "source": [
    "updated_column_names = [\"Date_time\",\"Q_factor\", \"Transmitted_power\", \"CD\", \"PMD\", \"Channel\"]\n",
    "\n",
    "df_optical_link.columns = updated_column_names\n",
    "df_optical_link.head(5)"
   ]
  },
  {
   "cell_type": "code",
   "execution_count": 44,
   "id": "a9d73211",
   "metadata": {},
   "outputs": [
    {
     "data": {
      "text/plain": [
       "(1374079, 6)"
      ]
     },
     "execution_count": 44,
     "metadata": {},
     "output_type": "execute_result"
    }
   ],
   "source": [
    "df_optical_link.shape"
   ]
  },
  {
   "cell_type": "code",
   "execution_count": 45,
   "id": "4c628a50",
   "metadata": {},
   "outputs": [
    {
     "data": {
      "text/plain": [
       "array(['10', 'channel', '11', '12', '13', '14', '15', '16', '17', '18',\n",
       "       '19', '1', '20', '21', '22', '23', '24', '25', '26', '27', '28',\n",
       "       '29', '2', '30', '31', '32', '33', '34', '35', '36', '37', '38',\n",
       "       '39', '3', '40', '4', '5', '6', '7', '8', '9'], dtype=object)"
      ]
     },
     "execution_count": 45,
     "metadata": {},
     "output_type": "execute_result"
    }
   ],
   "source": [
    "df_optical_link['Channel'].unique()"
   ]
  },
  {
   "cell_type": "code",
   "execution_count": 46,
   "id": "0f61b4db",
   "metadata": {},
   "outputs": [
    {
     "data": {
      "text/plain": [
       "(39, 6)"
      ]
     },
     "execution_count": 46,
     "metadata": {},
     "output_type": "execute_result"
    }
   ],
   "source": [
    "df_optical_link[df_optical_link.Channel == \"channel\"].shape"
   ]
  },
  {
   "cell_type": "markdown",
   "id": "12b066fb",
   "metadata": {},
   "source": [
    "Dropping all rows where 'Channel' column has non-numeric values (i.e., channel)."
   ]
  },
  {
   "cell_type": "code",
   "execution_count": 47,
   "id": "fa79e68a",
   "metadata": {},
   "outputs": [
    {
     "data": {
      "text/plain": [
       "(1374040, 6)"
      ]
     },
     "execution_count": 47,
     "metadata": {},
     "output_type": "execute_result"
    }
   ],
   "source": [
    "df_optical_link = df_optical_link[df_optical_link.Channel != \"channel\"]\n",
    "df_optical_link.shape"
   ]
  },
  {
   "cell_type": "code",
   "execution_count": 48,
   "id": "7fcb0f22",
   "metadata": {},
   "outputs": [
    {
     "data": {
      "text/plain": [
       "array(['10', '11', '12', '13', '14', '15', '16', '17', '18', '19', '1',\n",
       "       '20', '21', '22', '23', '24', '25', '26', '27', '28', '29', '2',\n",
       "       '30', '31', '32', '33', '34', '35', '36', '37', '38', '39', '3',\n",
       "       '40', '4', '5', '6', '7', '8', '9'], dtype=object)"
      ]
     },
     "execution_count": 48,
     "metadata": {},
     "output_type": "execute_result"
    }
   ],
   "source": [
    "df_optical_link['Channel'].unique()"
   ]
  },
  {
   "cell_type": "code",
   "execution_count": 49,
   "id": "15cea1ef",
   "metadata": {},
   "outputs": [
    {
     "data": {
      "text/plain": [
       "1     32253\n",
       "2     32253\n",
       "3     32253\n",
       "4     32253\n",
       "5     32253\n",
       "6     32253\n",
       "7     32253\n",
       "8     32253\n",
       "9     32253\n",
       "10    32253\n",
       "11    32237\n",
       "12    32237\n",
       "13    32237\n",
       "14    32237\n",
       "15    32237\n",
       "16    32237\n",
       "17    32237\n",
       "18    32237\n",
       "19    32237\n",
       "20    32237\n",
       "21    36406\n",
       "22    36406\n",
       "23    36406\n",
       "24    36406\n",
       "25    36406\n",
       "26    36406\n",
       "27    36406\n",
       "28    36406\n",
       "29    36406\n",
       "30    36406\n",
       "31    36508\n",
       "32    36508\n",
       "33    36508\n",
       "34    36508\n",
       "35    36508\n",
       "36    36508\n",
       "37    36508\n",
       "38    36508\n",
       "39    36508\n",
       "40    36508\n",
       "Name: Channel, dtype: int64"
      ]
     },
     "execution_count": 49,
     "metadata": {},
     "output_type": "execute_result"
    }
   ],
   "source": [
    "df_optical_link[\"Channel\"] = pd.to_numeric(df_optical_link[\"Channel\"])\n",
    "df_optical_link[\"Channel\"].value_counts().sort_index()"
   ]
  },
  {
   "cell_type": "code",
   "execution_count": 50,
   "id": "4910da1e",
   "metadata": {},
   "outputs": [
    {
     "data": {
      "text/html": [
       "<div>\n",
       "<style scoped>\n",
       "    .dataframe tbody tr th:only-of-type {\n",
       "        vertical-align: middle;\n",
       "    }\n",
       "\n",
       "    .dataframe tbody tr th {\n",
       "        vertical-align: top;\n",
       "    }\n",
       "\n",
       "    .dataframe thead th {\n",
       "        text-align: right;\n",
       "    }\n",
       "</style>\n",
       "<table border=\"1\" class=\"dataframe\">\n",
       "  <thead>\n",
       "    <tr style=\"text-align: right;\">\n",
       "      <th></th>\n",
       "      <th>Date_time</th>\n",
       "      <th>Q_factor</th>\n",
       "      <th>Transmitted_power</th>\n",
       "      <th>CD</th>\n",
       "      <th>PMD</th>\n",
       "      <th>Channel</th>\n",
       "    </tr>\n",
       "  </thead>\n",
       "  <tbody>\n",
       "    <tr>\n",
       "      <th>0</th>\n",
       "      <td>2015.03.18.19.45.00</td>\n",
       "      <td>12.03</td>\n",
       "      <td>-9.84</td>\n",
       "      <td>-2179.80</td>\n",
       "      <td>-19.56</td>\n",
       "      <td>10</td>\n",
       "    </tr>\n",
       "    <tr>\n",
       "      <th>1</th>\n",
       "      <td>2015.03.18.20.00.00</td>\n",
       "      <td>14.68</td>\n",
       "      <td>-9.84</td>\n",
       "      <td>-46.19</td>\n",
       "      <td>8.89</td>\n",
       "      <td>10</td>\n",
       "    </tr>\n",
       "    <tr>\n",
       "      <th>2</th>\n",
       "      <td>2015.03.18.20.15.00</td>\n",
       "      <td>14.75</td>\n",
       "      <td>-9.84</td>\n",
       "      <td>-43.79</td>\n",
       "      <td>8.95</td>\n",
       "      <td>10</td>\n",
       "    </tr>\n",
       "    <tr>\n",
       "      <th>3</th>\n",
       "      <td>2015.03.18.20.30.00</td>\n",
       "      <td>14.69</td>\n",
       "      <td>-9.83</td>\n",
       "      <td>-43.97</td>\n",
       "      <td>8.85</td>\n",
       "      <td>10</td>\n",
       "    </tr>\n",
       "    <tr>\n",
       "      <th>4</th>\n",
       "      <td>2015.03.18.20.45.00</td>\n",
       "      <td>14.65</td>\n",
       "      <td>-9.83</td>\n",
       "      <td>-45.48</td>\n",
       "      <td>8.68</td>\n",
       "      <td>10</td>\n",
       "    </tr>\n",
       "  </tbody>\n",
       "</table>\n",
       "</div>"
      ],
      "text/plain": [
       "             Date_time  Q_factor  Transmitted_power       CD    PMD  Channel\n",
       "0  2015.03.18.19.45.00     12.03              -9.84 -2179.80 -19.56       10\n",
       "1  2015.03.18.20.00.00     14.68              -9.84   -46.19   8.89       10\n",
       "2  2015.03.18.20.15.00     14.75              -9.84   -43.79   8.95       10\n",
       "3  2015.03.18.20.30.00     14.69              -9.83   -43.97   8.85       10\n",
       "4  2015.03.18.20.45.00     14.65              -9.83   -45.48   8.68       10"
      ]
     },
     "execution_count": 50,
     "metadata": {},
     "output_type": "execute_result"
    }
   ],
   "source": [
    "df_optical_link.head(5)"
   ]
  },
  {
   "cell_type": "markdown",
   "id": "717eacb4",
   "metadata": {},
   "source": [
    "Now, we can probably sepeate date and time in two different columns!\n"
   ]
  },
  {
   "cell_type": "code",
   "execution_count": 51,
   "id": "4826d2b3",
   "metadata": {},
   "outputs": [
    {
     "data": {
      "text/html": [
       "<div>\n",
       "<style scoped>\n",
       "    .dataframe tbody tr th:only-of-type {\n",
       "        vertical-align: middle;\n",
       "    }\n",
       "\n",
       "    .dataframe tbody tr th {\n",
       "        vertical-align: top;\n",
       "    }\n",
       "\n",
       "    .dataframe thead th {\n",
       "        text-align: right;\n",
       "    }\n",
       "</style>\n",
       "<table border=\"1\" class=\"dataframe\">\n",
       "  <thead>\n",
       "    <tr style=\"text-align: right;\">\n",
       "      <th></th>\n",
       "      <th>Q_factor</th>\n",
       "      <th>Transmitted_power</th>\n",
       "      <th>CD</th>\n",
       "      <th>PMD</th>\n",
       "      <th>Channel</th>\n",
       "      <th>date</th>\n",
       "      <th>time</th>\n",
       "    </tr>\n",
       "  </thead>\n",
       "  <tbody>\n",
       "    <tr>\n",
       "      <th>0</th>\n",
       "      <td>12.03</td>\n",
       "      <td>-9.84</td>\n",
       "      <td>-2179.80</td>\n",
       "      <td>-19.56</td>\n",
       "      <td>10</td>\n",
       "      <td>2015-03-18</td>\n",
       "      <td>19:45:00</td>\n",
       "    </tr>\n",
       "    <tr>\n",
       "      <th>1</th>\n",
       "      <td>14.68</td>\n",
       "      <td>-9.84</td>\n",
       "      <td>-46.19</td>\n",
       "      <td>8.89</td>\n",
       "      <td>10</td>\n",
       "      <td>2015-03-18</td>\n",
       "      <td>20:00:00</td>\n",
       "    </tr>\n",
       "    <tr>\n",
       "      <th>2</th>\n",
       "      <td>14.75</td>\n",
       "      <td>-9.84</td>\n",
       "      <td>-43.79</td>\n",
       "      <td>8.95</td>\n",
       "      <td>10</td>\n",
       "      <td>2015-03-18</td>\n",
       "      <td>20:15:00</td>\n",
       "    </tr>\n",
       "    <tr>\n",
       "      <th>3</th>\n",
       "      <td>14.69</td>\n",
       "      <td>-9.83</td>\n",
       "      <td>-43.97</td>\n",
       "      <td>8.85</td>\n",
       "      <td>10</td>\n",
       "      <td>2015-03-18</td>\n",
       "      <td>20:30:00</td>\n",
       "    </tr>\n",
       "    <tr>\n",
       "      <th>4</th>\n",
       "      <td>14.65</td>\n",
       "      <td>-9.83</td>\n",
       "      <td>-45.48</td>\n",
       "      <td>8.68</td>\n",
       "      <td>10</td>\n",
       "      <td>2015-03-18</td>\n",
       "      <td>20:45:00</td>\n",
       "    </tr>\n",
       "  </tbody>\n",
       "</table>\n",
       "</div>"
      ],
      "text/plain": [
       "   Q_factor  Transmitted_power       CD    PMD  Channel        date      time\n",
       "0     12.03              -9.84 -2179.80 -19.56       10  2015-03-18  19:45:00\n",
       "1     14.68              -9.84   -46.19   8.89       10  2015-03-18  20:00:00\n",
       "2     14.75              -9.84   -43.79   8.95       10  2015-03-18  20:15:00\n",
       "3     14.69              -9.83   -43.97   8.85       10  2015-03-18  20:30:00\n",
       "4     14.65              -9.83   -45.48   8.68       10  2015-03-18  20:45:00"
      ]
     },
     "execution_count": 51,
     "metadata": {},
     "output_type": "execute_result"
    }
   ],
   "source": [
    "df_optical_link['Date_time'] = pd.to_datetime(df_optical_link['Date_time'],  format = '%Y.%m.%d.%H.%M.%S')\n",
    "\n",
    "# Extract date and time as separate columns\n",
    "df_optical_link['date'] = df_optical_link['Date_time'].dt.date\n",
    "df_optical_link['time'] = df_optical_link['Date_time'].dt.time\n",
    "\n",
    "df_optical_link.drop(\"Date_time\", axis = \"columns\", inplace = True)\n",
    "df_optical_link.head(5)"
   ]
  },
  {
   "cell_type": "markdown",
   "id": "816dd0db",
   "metadata": {},
   "source": [
    "Plotting Q-factor w.r.t. date for some specific channel:\n",
    "\n",
    "Here let's say Channel = 25\n"
   ]
  },
  {
   "cell_type": "code",
   "execution_count": 53,
   "id": "6dee5340",
   "metadata": {},
   "outputs": [
    {
     "data": {
      "image/png": "[encoded data removed]",
      "text/plain": [
       "<Figure size 640x480 with 1 Axes>"
      ]
     },
     "metadata": {},
     "output_type": "display_data"
    }
   ],
   "source": [
    "channel_number = 25\n",
    "\n",
    "df_temp =  df_optical_link[df_optical_link.Channel == channel_number]\n",
    "df_temp.set_index('date', inplace=True)\n",
    "\n",
    "# Plot the data\n",
    "plt.plot(df_temp.index, df_temp['Q_factor'])\n",
    "# plt.ylim([14.4, 15.0])\n",
    "plt.xlabel('Date')\n",
    "plt.ylabel('Q-factor')\n",
    "plt.show()"
   ]
  },
  {
   "cell_type": "markdown",
   "id": "a0c8e78e",
   "metadata": {},
   "source": [
    "Further manipulation like outliers removal, or averaging data for some specific window can also be performed if desired which is not too difficult."
   ]
  }
 ],
 "metadata": {
  "kernelspec": {
   "display_name": "Python 3.9 (tensorflow)",
   "language": "python",
   "name": "tensorflow"
  },
  "language_info": {
   "codemirror_mode": {
    "name": "ipython",
    "version": 3
   },
   "file_extension": ".py",
   "mimetype": "text/x-python",
   "name": "python",
   "nbconvert_exporter": "python",
   "pygments_lexer": "ipython3",
   "version": "3.9.15"
  }
 },
 "nbformat": 4,
 "nbformat_minor": 5
}
