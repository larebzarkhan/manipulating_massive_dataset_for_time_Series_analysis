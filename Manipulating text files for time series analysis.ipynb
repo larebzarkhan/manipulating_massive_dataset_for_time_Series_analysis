{
 "cells": [
  {
   "cell_type": "markdown",
   "id": "d62290a3",
   "metadata": {},
   "source": [
    "Importing required packages"
   ]
  },
  {
   "cell_type": "code",
   "execution_count": 1,
   "id": "ac060fc0",
   "metadata": {},
   "outputs": [],
   "source": [
    "import pandas as pd\n",
    "import os, glob\n",
    "import matplotlib.pyplot as plt\n",
    "\n",
    "import warnings\n",
    "warnings.filterwarnings(\"ignore\")"
   ]
  },
  {
   "cell_type": "markdown",
   "id": "67a49739",
   "metadata": {},
   "source": [
    "We have 4000 text files (each corresponding to a recorded data on an optical channel for 14 months). A group of files (channels) belong to some specific optical link or segment.\n",
    "\n",
    "The goal is to group/merge all the files belonging to some specific segment while preserving the information of channel (i.e., channel number). The information about channel and segment numbers is available in the file names so we have to extract this information also."
   ]
  },
  {
   "cell_type": "markdown",
   "id": "799fe445",
   "metadata": {},
   "source": [
    "Following function extracts and returns segment number from the file name."
   ]
  },
  {
   "cell_type": "code",
   "execution_count": 2,
   "id": "0c7102cd",
   "metadata": {},
   "outputs": [],
   "source": [
    "def get_segment_no(file_name):\n",
    "    \n",
    "    base_name = os.path.basename(file_name)     #extracts file name from the path\n",
    "    file_without_ext = os.path.splitext(base_name)[0]  #file name without extension\n",
    "    segment_no = file_without_ext.split(\"segment_\")[-1]   #getting segment number\n",
    "    \n",
    "    return segment_no"
   ]
  },
  {
   "cell_type": "markdown",
   "id": "b380b616",
   "metadata": {},
   "source": [
    "Following function extracts and returns channel number from the file name."
   ]
  },
  {
   "cell_type": "code",
   "execution_count": 3,
   "id": "846de3c5",
   "metadata": {},
   "outputs": [],
   "source": [
    "def get_channel_no(file_name):\n",
    "    base_name = os.path.basename(file_name)\n",
    "    channel_no = base_name.split(\"_\")[1]   # using _ as a delimeter here and extracting second element i.e, 1 in the list\n",
    "#     print (channel_no)    \n",
    "    return channel_no"
   ]
  },
  {
   "cell_type": "markdown",
   "id": "4bfd1396",
   "metadata": {},
   "source": [
    "Specifying the folder directory and the extension of files that need to be opended.\n",
    "\n"
   ]
  },
  {
   "cell_type": "code",
   "execution_count": 4,
   "id": "19469878",
   "metadata": {},
   "outputs": [],
   "source": [
    "folder = r\"your folder's directory\"\n",
    "file_list = glob.glob(os.path.join(folder, '*.txt'))"
   ]
  },
  {
   "cell_type": "code",
   "execution_count": 5,
   "id": "596a93ac",
   "metadata": {},
   "outputs": [],
   "source": [
    "# creating an empty dictionary to store the grouped files\n",
    "groups = {}"
   ]
  },
  {
   "cell_type": "markdown",
   "id": "cb9fc22c",
   "metadata": {},
   "source": [
    "With following for loop, we open each file (.txt) in the directory, add new column to store its channel number and then saving the upated file as .csv with the same name in the same directory."
   ]
  },
  {
   "cell_type": "code",
   "execution_count": 6,
   "id": "3a447d40",
   "metadata": {
    "scrolled": false
   },
   "outputs": [],
   "source": [
    "for file_path in file_list:\n",
    "    df = pd.read_table(file_path, sep='\\t',  header = None)\n",
    "    df[\"channel\"] = get_channel_no(file_path)\n",
    "    df.to_csv(file_path, index = False)  #save it to csv file again (text file with comma seperator)"
   ]
  },
  {
   "cell_type": "code",
   "execution_count": 7,
   "id": "121d6190",
   "metadata": {},
   "outputs": [],
   "source": [
    "# iterate over the list of files\n",
    "for file_path in file_list:\n",
    "    \n",
    "    file_name = os.path.basename(file_path)\n",
    "    group_name = get_segment_no(file_name) # get segment number\n",
    "    \n",
    "    # if the group_name doesn't exist in the dictionary, create it and add the file to it\n",
    "    \n",
    "    if group_name not in groups:\n",
    "        groups[group_name] = [file_path]\n",
    "    else:\n",
    "        groups[group_name].append(file_path)"
   ]
  },
  {
   "cell_type": "code",
   "execution_count": 8,
   "id": "9c213508",
   "metadata": {},
   "outputs": [],
   "source": [
    "for group_name, files in groups.items():\n",
    "    # create a new file to store the merged contents\n",
    "    with open(os.path.join(folder, str(group_name) + '_optical_link.txt'), 'w') as outfile:\n",
    "        for file_path in files:\n",
    "            # open each file in the group and read its contents\n",
    "            with open(file_path, 'r') as infile:\n",
    "                outfile.write(infile.read())"
   ]
  },
  {
   "cell_type": "markdown",
   "id": "02ebdb88",
   "metadata": {},
   "source": [
    "Data for each link has been merged and stored now! Opening one of those files and doing some further manipulation!"
   ]
  },
  {
   "cell_type": "code",
   "execution_count": 9,
   "id": "0409b80c",
   "metadata": {},
   "outputs": [],
   "source": [
    "file_path_new = os.path.join(folder, \"75_optical_link.txt\")    # we can change the file name here\n",
    "df_optical_link = pd.read_csv(file_path_new)   #csv because data is sepearated using comma in text files"
   ]
  },
  {
   "cell_type": "code",
   "execution_count": 10,
   "id": "e94800b4",
   "metadata": {},
   "outputs": [
    {
     "data": {
      "text/html": [
       "<div>\n",
       "<style scoped>\n",
       "    .dataframe tbody tr th:only-of-type {\n",
       "        vertical-align: middle;\n",
       "    }\n",
       "\n",
       "    .dataframe tbody tr th {\n",
       "        vertical-align: top;\n",
       "    }\n",
       "\n",
       "    .dataframe thead th {\n",
       "        text-align: right;\n",
       "    }\n",
       "</style>\n",
       "<table border=\"1\" class=\"dataframe\">\n",
       "  <thead>\n",
       "    <tr style=\"text-align: right;\">\n",
       "      <th></th>\n",
       "      <th>0</th>\n",
       "      <th>1</th>\n",
       "      <th>2</th>\n",
       "      <th>3</th>\n",
       "      <th>4</th>\n",
       "      <th>channel</th>\n",
       "    </tr>\n",
       "  </thead>\n",
       "  <tbody>\n",
       "    <tr>\n",
       "      <th>0</th>\n",
       "      <td>2015.02.02.12.00.00</td>\n",
       "      <td>15.07</td>\n",
       "      <td>-9.68</td>\n",
       "      <td>183.03</td>\n",
       "      <td>7.56</td>\n",
       "      <td>2741</td>\n",
       "    </tr>\n",
       "    <tr>\n",
       "      <th>1</th>\n",
       "      <td>2015.02.02.12.15.00</td>\n",
       "      <td>15.08</td>\n",
       "      <td>-9.68</td>\n",
       "      <td>182.62</td>\n",
       "      <td>7.94</td>\n",
       "      <td>2741</td>\n",
       "    </tr>\n",
       "    <tr>\n",
       "      <th>2</th>\n",
       "      <td>2015.02.02.12.30.00</td>\n",
       "      <td>15.08</td>\n",
       "      <td>-9.68</td>\n",
       "      <td>182.59</td>\n",
       "      <td>7.80</td>\n",
       "      <td>2741</td>\n",
       "    </tr>\n",
       "    <tr>\n",
       "      <th>3</th>\n",
       "      <td>2015.02.02.12.45.00</td>\n",
       "      <td>15.08</td>\n",
       "      <td>-9.68</td>\n",
       "      <td>182.91</td>\n",
       "      <td>7.93</td>\n",
       "      <td>2741</td>\n",
       "    </tr>\n",
       "    <tr>\n",
       "      <th>4</th>\n",
       "      <td>2015.02.02.13.00.00</td>\n",
       "      <td>15.08</td>\n",
       "      <td>-9.68</td>\n",
       "      <td>184.52</td>\n",
       "      <td>7.74</td>\n",
       "      <td>2741</td>\n",
       "    </tr>\n",
       "  </tbody>\n",
       "</table>\n",
       "</div>"
      ],
      "text/plain": [
       "                     0      1     2       3     4 channel\n",
       "0  2015.02.02.12.00.00  15.07 -9.68  183.03  7.56    2741\n",
       "1  2015.02.02.12.15.00  15.08 -9.68  182.62  7.94    2741\n",
       "2  2015.02.02.12.30.00  15.08 -9.68  182.59  7.80    2741\n",
       "3  2015.02.02.12.45.00  15.08 -9.68  182.91  7.93    2741\n",
       "4  2015.02.02.13.00.00  15.08 -9.68  184.52  7.74    2741"
      ]
     },
     "execution_count": 10,
     "metadata": {},
     "output_type": "execute_result"
    }
   ],
   "source": [
    "df_optical_link.head(5)"
   ]
  },
  {
   "cell_type": "code",
   "execution_count": 11,
   "id": "d2605b5c",
   "metadata": {},
   "outputs": [
    {
     "data": {
      "text/html": [
       "<div>\n",
       "<style scoped>\n",
       "    .dataframe tbody tr th:only-of-type {\n",
       "        vertical-align: middle;\n",
       "    }\n",
       "\n",
       "    .dataframe tbody tr th {\n",
       "        vertical-align: top;\n",
       "    }\n",
       "\n",
       "    .dataframe thead th {\n",
       "        text-align: right;\n",
       "    }\n",
       "</style>\n",
       "<table border=\"1\" class=\"dataframe\">\n",
       "  <thead>\n",
       "    <tr style=\"text-align: right;\">\n",
       "      <th></th>\n",
       "      <th>Date_time</th>\n",
       "      <th>Q_factor</th>\n",
       "      <th>Transmitted_power</th>\n",
       "      <th>CD</th>\n",
       "      <th>PMD</th>\n",
       "      <th>Channel</th>\n",
       "    </tr>\n",
       "  </thead>\n",
       "  <tbody>\n",
       "    <tr>\n",
       "      <th>0</th>\n",
       "      <td>2015.02.02.12.00.00</td>\n",
       "      <td>15.07</td>\n",
       "      <td>-9.68</td>\n",
       "      <td>183.03</td>\n",
       "      <td>7.56</td>\n",
       "      <td>2741</td>\n",
       "    </tr>\n",
       "    <tr>\n",
       "      <th>1</th>\n",
       "      <td>2015.02.02.12.15.00</td>\n",
       "      <td>15.08</td>\n",
       "      <td>-9.68</td>\n",
       "      <td>182.62</td>\n",
       "      <td>7.94</td>\n",
       "      <td>2741</td>\n",
       "    </tr>\n",
       "    <tr>\n",
       "      <th>2</th>\n",
       "      <td>2015.02.02.12.30.00</td>\n",
       "      <td>15.08</td>\n",
       "      <td>-9.68</td>\n",
       "      <td>182.59</td>\n",
       "      <td>7.80</td>\n",
       "      <td>2741</td>\n",
       "    </tr>\n",
       "    <tr>\n",
       "      <th>3</th>\n",
       "      <td>2015.02.02.12.45.00</td>\n",
       "      <td>15.08</td>\n",
       "      <td>-9.68</td>\n",
       "      <td>182.91</td>\n",
       "      <td>7.93</td>\n",
       "      <td>2741</td>\n",
       "    </tr>\n",
       "    <tr>\n",
       "      <th>4</th>\n",
       "      <td>2015.02.02.13.00.00</td>\n",
       "      <td>15.08</td>\n",
       "      <td>-9.68</td>\n",
       "      <td>184.52</td>\n",
       "      <td>7.74</td>\n",
       "      <td>2741</td>\n",
       "    </tr>\n",
       "  </tbody>\n",
       "</table>\n",
       "</div>"
      ],
      "text/plain": [
       "             Date_time  Q_factor  Transmitted_power      CD   PMD Channel\n",
       "0  2015.02.02.12.00.00     15.07              -9.68  183.03  7.56    2741\n",
       "1  2015.02.02.12.15.00     15.08              -9.68  182.62  7.94    2741\n",
       "2  2015.02.02.12.30.00     15.08              -9.68  182.59  7.80    2741\n",
       "3  2015.02.02.12.45.00     15.08              -9.68  182.91  7.93    2741\n",
       "4  2015.02.02.13.00.00     15.08              -9.68  184.52  7.74    2741"
      ]
     },
     "execution_count": 11,
     "metadata": {},
     "output_type": "execute_result"
    }
   ],
   "source": [
    "updated_column_names = [\"Date_time\",\"Q_factor\", \"Transmitted_power\", \"CD\", \"PMD\", \"Channel\"]\n",
    "\n",
    "df_optical_link.columns = updated_column_names\n",
    "df_optical_link.head(5)"
   ]
  },
  {
   "cell_type": "code",
   "execution_count": 12,
   "id": "f066e82f",
   "metadata": {},
   "outputs": [
    {
     "data": {
      "text/plain": [
       "(2032859, 6)"
      ]
     },
     "execution_count": 12,
     "metadata": {},
     "output_type": "execute_result"
    }
   ],
   "source": [
    "df_optical_link.shape"
   ]
  },
  {
   "cell_type": "code",
   "execution_count": 13,
   "id": "502de121",
   "metadata": {},
   "outputs": [
    {
     "data": {
      "text/plain": [
       "array(['2741', 'channel', '2742', '2743', '2744', '2745', '2746', '2747',\n",
       "       '2748', '2749', '2750', '2751', '2752', '2753', '2754', '2755',\n",
       "       '2756', '2757', '2758', '2759', '2760', '2761', '2762', '2763',\n",
       "       '2764', '2765', '2766', '2767', '2768', '2769', '2770', '2771',\n",
       "       '2772', '2773', '2774', '2775', '2776', '2777', '2778', '2779',\n",
       "       '2780', '2781', '2782', '2783', '2784', '2785', '2786', '2787',\n",
       "       '2788', '2789', '2790', '2791', '2792', '2793', '2794', '2795',\n",
       "       '2796', '2797', '2798', '2799', '2800'], dtype=object)"
      ]
     },
     "execution_count": 13,
     "metadata": {},
     "output_type": "execute_result"
    }
   ],
   "source": [
    "df_optical_link['Channel'].unique()"
   ]
  },
  {
   "cell_type": "code",
   "execution_count": 14,
   "id": "afb1ab8a",
   "metadata": {},
   "outputs": [
    {
     "data": {
      "text/plain": [
       "(59, 6)"
      ]
     },
     "execution_count": 14,
     "metadata": {},
     "output_type": "execute_result"
    }
   ],
   "source": [
    "df_optical_link[df_optical_link.Channel == \"channel\"].shape"
   ]
  },
  {
   "cell_type": "markdown",
   "id": "0c37b394",
   "metadata": {},
   "source": [
    "Dropping all rows where 'Channel' column has non-numeric values (i.e., channel)."
   ]
  },
  {
   "cell_type": "code",
   "execution_count": 15,
   "id": "d6e71c1f",
   "metadata": {},
   "outputs": [
    {
     "data": {
      "text/plain": [
       "(2032800, 6)"
      ]
     },
     "execution_count": 15,
     "metadata": {},
     "output_type": "execute_result"
    }
   ],
   "source": [
    "df_optical_link = df_optical_link[df_optical_link.Channel != \"channel\"]\n",
    "df_optical_link.shape"
   ]
  },
  {
   "cell_type": "code",
   "execution_count": 16,
   "id": "9c6a6071",
   "metadata": {},
   "outputs": [
    {
     "data": {
      "text/plain": [
       "array(['2741', '2742', '2743', '2744', '2745', '2746', '2747', '2748',\n",
       "       '2749', '2750', '2751', '2752', '2753', '2754', '2755', '2756',\n",
       "       '2757', '2758', '2759', '2760', '2761', '2762', '2763', '2764',\n",
       "       '2765', '2766', '2767', '2768', '2769', '2770', '2771', '2772',\n",
       "       '2773', '2774', '2775', '2776', '2777', '2778', '2779', '2780',\n",
       "       '2781', '2782', '2783', '2784', '2785', '2786', '2787', '2788',\n",
       "       '2789', '2790', '2791', '2792', '2793', '2794', '2795', '2796',\n",
       "       '2797', '2798', '2799', '2800'], dtype=object)"
      ]
     },
     "execution_count": 16,
     "metadata": {},
     "output_type": "execute_result"
    }
   ],
   "source": [
    "df_optical_link['Channel'].unique()"
   ]
  },
  {
   "cell_type": "code",
   "execution_count": 17,
   "id": "425231ef",
   "metadata": {},
   "outputs": [
    {
     "data": {
      "text/plain": [
       "2741    35948\n",
       "2742    35948\n",
       "2743    35948\n",
       "2744    35948\n",
       "2745    35948\n",
       "2746    35948\n",
       "2747    35948\n",
       "2748    35948\n",
       "2749    35948\n",
       "2750    35948\n",
       "2751    35934\n",
       "2752    35934\n",
       "2753    35934\n",
       "2754    35934\n",
       "2755    35934\n",
       "2756    35934\n",
       "2757    35934\n",
       "2758    35934\n",
       "2759    35934\n",
       "2760    35934\n",
       "2761    29830\n",
       "2762    29830\n",
       "2763    29830\n",
       "2764    29830\n",
       "2765    29830\n",
       "2766    29830\n",
       "2767    29830\n",
       "2768    29830\n",
       "2769    29830\n",
       "2770    29830\n",
       "2771    29931\n",
       "2772    29931\n",
       "2773    29931\n",
       "2774    29931\n",
       "2775    29931\n",
       "2776    29931\n",
       "2777    29931\n",
       "2778    29931\n",
       "2779    29931\n",
       "2780    29931\n",
       "2781    35936\n",
       "2782    35936\n",
       "2783    35936\n",
       "2784    35936\n",
       "2785    35936\n",
       "2786    35936\n",
       "2787    35936\n",
       "2788    35936\n",
       "2789    35936\n",
       "2790    35936\n",
       "2791    35701\n",
       "2792    35701\n",
       "2793    35701\n",
       "2794    35701\n",
       "2795    35701\n",
       "2796    35701\n",
       "2797    35701\n",
       "2798    35701\n",
       "2799    35701\n",
       "2800    35701\n",
       "Name: Channel, dtype: int64"
      ]
     },
     "execution_count": 17,
     "metadata": {},
     "output_type": "execute_result"
    }
   ],
   "source": [
    "df_optical_link[\"Channel\"] = pd.to_numeric(df_optical_link[\"Channel\"])\n",
    "df_optical_link[\"Channel\"].value_counts().sort_index()"
   ]
  },
  {
   "cell_type": "code",
   "execution_count": 18,
   "id": "6bb74bd6",
   "metadata": {},
   "outputs": [
    {
     "data": {
      "text/html": [
       "<div>\n",
       "<style scoped>\n",
       "    .dataframe tbody tr th:only-of-type {\n",
       "        vertical-align: middle;\n",
       "    }\n",
       "\n",
       "    .dataframe tbody tr th {\n",
       "        vertical-align: top;\n",
       "    }\n",
       "\n",
       "    .dataframe thead th {\n",
       "        text-align: right;\n",
       "    }\n",
       "</style>\n",
       "<table border=\"1\" class=\"dataframe\">\n",
       "  <thead>\n",
       "    <tr style=\"text-align: right;\">\n",
       "      <th></th>\n",
       "      <th>Date_time</th>\n",
       "      <th>Q_factor</th>\n",
       "      <th>Transmitted_power</th>\n",
       "      <th>CD</th>\n",
       "      <th>PMD</th>\n",
       "      <th>Channel</th>\n",
       "    </tr>\n",
       "  </thead>\n",
       "  <tbody>\n",
       "    <tr>\n",
       "      <th>0</th>\n",
       "      <td>2015.02.02.12.00.00</td>\n",
       "      <td>15.07</td>\n",
       "      <td>-9.68</td>\n",
       "      <td>183.03</td>\n",
       "      <td>7.56</td>\n",
       "      <td>2741</td>\n",
       "    </tr>\n",
       "    <tr>\n",
       "      <th>1</th>\n",
       "      <td>2015.02.02.12.15.00</td>\n",
       "      <td>15.08</td>\n",
       "      <td>-9.68</td>\n",
       "      <td>182.62</td>\n",
       "      <td>7.94</td>\n",
       "      <td>2741</td>\n",
       "    </tr>\n",
       "    <tr>\n",
       "      <th>2</th>\n",
       "      <td>2015.02.02.12.30.00</td>\n",
       "      <td>15.08</td>\n",
       "      <td>-9.68</td>\n",
       "      <td>182.59</td>\n",
       "      <td>7.80</td>\n",
       "      <td>2741</td>\n",
       "    </tr>\n",
       "    <tr>\n",
       "      <th>3</th>\n",
       "      <td>2015.02.02.12.45.00</td>\n",
       "      <td>15.08</td>\n",
       "      <td>-9.68</td>\n",
       "      <td>182.91</td>\n",
       "      <td>7.93</td>\n",
       "      <td>2741</td>\n",
       "    </tr>\n",
       "    <tr>\n",
       "      <th>4</th>\n",
       "      <td>2015.02.02.13.00.00</td>\n",
       "      <td>15.08</td>\n",
       "      <td>-9.68</td>\n",
       "      <td>184.52</td>\n",
       "      <td>7.74</td>\n",
       "      <td>2741</td>\n",
       "    </tr>\n",
       "  </tbody>\n",
       "</table>\n",
       "</div>"
      ],
      "text/plain": [
       "             Date_time  Q_factor  Transmitted_power      CD   PMD  Channel\n",
       "0  2015.02.02.12.00.00     15.07              -9.68  183.03  7.56     2741\n",
       "1  2015.02.02.12.15.00     15.08              -9.68  182.62  7.94     2741\n",
       "2  2015.02.02.12.30.00     15.08              -9.68  182.59  7.80     2741\n",
       "3  2015.02.02.12.45.00     15.08              -9.68  182.91  7.93     2741\n",
       "4  2015.02.02.13.00.00     15.08              -9.68  184.52  7.74     2741"
      ]
     },
     "execution_count": 18,
     "metadata": {},
     "output_type": "execute_result"
    }
   ],
   "source": [
    "df_optical_link.head(5)"
   ]
  },
  {
   "cell_type": "markdown",
   "id": "ade33539",
   "metadata": {},
   "source": [
    "Now, we can probably sepeate date and time in two different columns!\n"
   ]
  },
  {
   "cell_type": "code",
   "execution_count": 19,
   "id": "b024e8e6",
   "metadata": {},
   "outputs": [
    {
     "data": {
      "text/html": [
       "<div>\n",
       "<style scoped>\n",
       "    .dataframe tbody tr th:only-of-type {\n",
       "        vertical-align: middle;\n",
       "    }\n",
       "\n",
       "    .dataframe tbody tr th {\n",
       "        vertical-align: top;\n",
       "    }\n",
       "\n",
       "    .dataframe thead th {\n",
       "        text-align: right;\n",
       "    }\n",
       "</style>\n",
       "<table border=\"1\" class=\"dataframe\">\n",
       "  <thead>\n",
       "    <tr style=\"text-align: right;\">\n",
       "      <th></th>\n",
       "      <th>Q_factor</th>\n",
       "      <th>Transmitted_power</th>\n",
       "      <th>CD</th>\n",
       "      <th>PMD</th>\n",
       "      <th>Channel</th>\n",
       "      <th>date</th>\n",
       "      <th>time</th>\n",
       "    </tr>\n",
       "  </thead>\n",
       "  <tbody>\n",
       "    <tr>\n",
       "      <th>0</th>\n",
       "      <td>15.07</td>\n",
       "      <td>-9.68</td>\n",
       "      <td>183.03</td>\n",
       "      <td>7.56</td>\n",
       "      <td>2741</td>\n",
       "      <td>2015-02-02</td>\n",
       "      <td>12:00:00</td>\n",
       "    </tr>\n",
       "    <tr>\n",
       "      <th>1</th>\n",
       "      <td>15.08</td>\n",
       "      <td>-9.68</td>\n",
       "      <td>182.62</td>\n",
       "      <td>7.94</td>\n",
       "      <td>2741</td>\n",
       "      <td>2015-02-02</td>\n",
       "      <td>12:15:00</td>\n",
       "    </tr>\n",
       "    <tr>\n",
       "      <th>2</th>\n",
       "      <td>15.08</td>\n",
       "      <td>-9.68</td>\n",
       "      <td>182.59</td>\n",
       "      <td>7.80</td>\n",
       "      <td>2741</td>\n",
       "      <td>2015-02-02</td>\n",
       "      <td>12:30:00</td>\n",
       "    </tr>\n",
       "    <tr>\n",
       "      <th>3</th>\n",
       "      <td>15.08</td>\n",
       "      <td>-9.68</td>\n",
       "      <td>182.91</td>\n",
       "      <td>7.93</td>\n",
       "      <td>2741</td>\n",
       "      <td>2015-02-02</td>\n",
       "      <td>12:45:00</td>\n",
       "    </tr>\n",
       "    <tr>\n",
       "      <th>4</th>\n",
       "      <td>15.08</td>\n",
       "      <td>-9.68</td>\n",
       "      <td>184.52</td>\n",
       "      <td>7.74</td>\n",
       "      <td>2741</td>\n",
       "      <td>2015-02-02</td>\n",
       "      <td>13:00:00</td>\n",
       "    </tr>\n",
       "  </tbody>\n",
       "</table>\n",
       "</div>"
      ],
      "text/plain": [
       "   Q_factor  Transmitted_power      CD   PMD  Channel        date      time\n",
       "0     15.07              -9.68  183.03  7.56     2741  2015-02-02  12:00:00\n",
       "1     15.08              -9.68  182.62  7.94     2741  2015-02-02  12:15:00\n",
       "2     15.08              -9.68  182.59  7.80     2741  2015-02-02  12:30:00\n",
       "3     15.08              -9.68  182.91  7.93     2741  2015-02-02  12:45:00\n",
       "4     15.08              -9.68  184.52  7.74     2741  2015-02-02  13:00:00"
      ]
     },
     "execution_count": 19,
     "metadata": {},
     "output_type": "execute_result"
    }
   ],
   "source": [
    "df_optical_link['Date_time'] = pd.to_datetime(df_optical_link['Date_time'],  format = '%Y.%m.%d.%H.%M.%S')\n",
    "\n",
    "# Extract date and time as separate columns\n",
    "df_optical_link['date'] = df_optical_link['Date_time'].dt.date\n",
    "df_optical_link['time'] = df_optical_link['Date_time'].dt.time\n",
    "\n",
    "df_optical_link.drop(\"Date_time\", axis = \"columns\", inplace = True)\n",
    "df_optical_link.head(5)"
   ]
  },
  {
   "cell_type": "markdown",
   "id": "735453af",
   "metadata": {},
   "source": [
    "Plotting Q-factor w.r.t. date for some specific channel:\n",
    "\n",
    "Here let's say Channel = 2792\n"
   ]
  },
  {
   "cell_type": "code",
   "execution_count": 20,
   "id": "73115ebd",
   "metadata": {
    "scrolled": false
   },
   "outputs": [
    {
     "data": {
      "image/png": "[encoded data removed]",
      "text/plain": [
       "<Figure size 640x480 with 1 Axes>"
      ]
     },
     "metadata": {},
     "output_type": "display_data"
    }
   ],
   "source": [
    "channel_number = 2792\n",
    "\n",
    "df_temp =  df_optical_link[df_optical_link.Channel == channel_number]\n",
    "df_temp.set_index('date', inplace=True)\n",
    "\n",
    "# Plot the data\n",
    "plt.plot(df_temp.index, df_temp['Q_factor'])\n",
    "# plt.ylim([14.4, 15.0])\n",
    "# plt.ylim([14.4, 15.0])\n",
    "plt.xlabel('Date')\n",
    "plt.ylabel('Q-factor')\n",
    "plt.show()"
   ]
  },
  {
   "cell_type": "markdown",
   "id": "68997a13",
   "metadata": {},
   "source": [
    "Further manipulation like outliers removal, or averaging data for some specific window can also be performed if desired which is not too difficult."
   ]
  }
 ],
 "metadata": {
  "kernelspec": {
   "display_name": "Python 3.9 (tensorflow)",
   "language": "python",
   "name": "tensorflow"
  },
  "language_info": {
   "codemirror_mode": {
    "name": "ipython",
    "version": 3
   },
   "file_extension": ".py",
   "mimetype": "text/x-python",
   "name": "python",
   "nbconvert_exporter": "python",
   "pygments_lexer": "ipython3",
   "version": "3.9.15"
  }
 },
 "nbformat": 4,
 "nbformat_minor": 5
}
